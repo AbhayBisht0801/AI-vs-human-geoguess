{
 "cells": [
  {
   "cell_type": "code",
   "execution_count": 1,
   "metadata": {},
   "outputs": [],
   "source": [
    "import os"
   ]
  },
  {
   "cell_type": "code",
   "execution_count": 2,
   "metadata": {},
   "outputs": [],
   "source": [
    "os.chdir('../')"
   ]
  },
  {
   "cell_type": "code",
   "execution_count": 3,
   "metadata": {},
   "outputs": [
    {
     "data": {
      "text/plain": [
       "'c:\\\\Users\\\\bisht\\\\OneDrive\\\\Desktop\\\\geoguess'"
      ]
     },
     "execution_count": 3,
     "metadata": {},
     "output_type": "execute_result"
    }
   ],
   "source": [
    "%pwd"
   ]
  },
  {
   "cell_type": "code",
   "execution_count": 4,
   "metadata": {},
   "outputs": [],
   "source": [
    "from AI_Vs_Human_Geoguess.constants import *\n",
    "from AI_Vs_Human_Geoguess.utils.common import read_yaml,create_directories"
   ]
  },
  {
   "cell_type": "code",
   "execution_count": 5,
   "metadata": {},
   "outputs": [],
   "source": [
    "from dataclasses import dataclass\n",
    "from pathlib import Path\n",
    "@dataclass(frozen=True)\n",
    "class PrepareBaseModelConfig:\n",
    "    root_dir:Path\n",
    "    base_model_path:Path\n",
    "    updated_base_model_path:Path\n",
    "    params_image_size:list\n",
    "    params_learning_rate:float\n",
    "    params_weights:str\n",
    "    params_output_nueron:int\n",
    "    params_include_top:bool\n",
    "    \n",
    "    \n"
   ]
  },
  {
   "cell_type": "code",
   "execution_count": 6,
   "metadata": {},
   "outputs": [],
   "source": [
    "from AI_Vs_Human_Geoguess.constants import *\n",
    "from AI_Vs_Human_Geoguess.utils.common import read_yaml,create_directories"
   ]
  },
  {
   "cell_type": "code",
   "execution_count": 7,
   "metadata": {},
   "outputs": [],
   "source": [
    "\n",
    "\n",
    "    \n",
    "class ConfigurationManager:\n",
    "    def __init__(\n",
    "        self,\n",
    "        config_filepath = CONFIG_FILE_PATH,\n",
    "        params_filepath = PARAMS_FILE_PATH):\n",
    "\n",
    "        self.config = read_yaml(config_filepath)\n",
    "        self.params = read_yaml(params_filepath)\n",
    "\n",
    "        create_directories([self.config.artifacts_root])\n",
    "\n",
    "\n",
    "    \n",
    "    def get_prepare_base_model_config(self) -> PrepareBaseModelConfig:\n",
    "        config = self.config.prepare_base_model\n",
    "\n",
    "        create_directories([config.root_dir])\n",
    "\n",
    "        prepare_base_model_config = PrepareBaseModelConfig(\n",
    "            root_dir=Path(config.root_dir),\n",
    "            base_model_path=Path(config.base_model_path),\n",
    "            updated_base_model_path=Path(config.updated_base_model_path),\n",
    "            params_image_size=self.params.IMAGE_SIZE,\n",
    "            params_learning_rate=self.params.LEARNING_RATE,\n",
    "            params_weights=self.params.WEIGHTS,\n",
    "            params_output_nueron=self.params.OUTPUT_NUERON,\n",
    "            params_include_top=self.params.INCLUDE_TOP\n",
    "            \n",
    "        )\n",
    "        return prepare_base_model_config\n"
   ]
  },
  {
   "cell_type": "code",
   "execution_count": 16,
   "metadata": {},
   "outputs": [],
   "source": [
    "import os\n",
    "import zipfile\n",
    "import gdown\n",
    "from AI_Vs_Human_Geoguess import logger\n",
    "from AI_Vs_Human_Geoguess.utils.common import get_size\n",
    "import pandas as pd\n",
    "import tensorflow as tf\n",
    "from keras.layers import Dense,Flatten,BatchNormalization,Dropout\n"
   ]
  },
  {
   "cell_type": "code",
   "execution_count": 17,
   "metadata": {},
   "outputs": [],
   "source": [
    "class PrepareBaseModel:\n",
    "    def __init__(self,config=PrepareBaseModelConfig):\n",
    "        self.config=config\n",
    "    def get_base_model(self):\n",
    "        self.model=tf.keras.applications.vgg16.VGG16(\n",
    "            weights=self.config.params_weights,\n",
    "            include_top=self.config.params_include_top,\n",
    "            input_shape=self.config.params_image_size\n",
    "        )\n",
    "        self.save_model(path=self.config.base_model_path,model=self.model)\n",
    "    @staticmethod\n",
    "    def save_model(path:Path,model:tf.keras.Model):\n",
    "        model.save(path)\n",
    "    @staticmethod\n",
    "    def  _prepare_full_model(model,output_nueron,freeze_all,freeze_till):\n",
    "        if freeze_all:\n",
    "            for layer in model.layers:\n",
    "                layer.trainable = False\n",
    "        elif (freeze_till is not None) and (freeze_till>0):\n",
    "            for layer in model.layers[:freeze_all]:\n",
    "                model.trainable=False\n",
    "        full_model = tf.keras.models.Sequential()\n",
    "        full_model.add(tf.keras.layers.InputLayer(input_shape=(180, 180, 3)))\n",
    "        full_model.add(model)  # Ensure base_model is properly defined\n",
    "        full_model.add(Flatten())\n",
    "        full_model.add(Dense(128, activation='relu'))\n",
    "        full_model.add(BatchNormalization())\n",
    "        full_model.add(Dropout(0.5))\n",
    "        full_model.add(Dense(256, activation='relu'))\n",
    "        full_model.add(BatchNormalization())\n",
    "        full_model.add(Dropout(0.4))\n",
    "        full_model.add(Dense(128, activation='relu'))\n",
    "        full_model.add(BatchNormalization())\n",
    "        full_model.add(Dropout(0.3))\n",
    "        full_model.add(Dense(64, activation='relu'))\n",
    "        full_model.add(BatchNormalization())\n",
    "        full_model.add(Dropout(0.3))\n",
    "        full_model.add(Dense(32, activation='relu'))\n",
    "        full_model.add(BatchNormalization())\n",
    "        full_model.add(Dropout(0.3))\n",
    "        full_model.add(Dense(16, activation='relu'))\n",
    "        full_model.add(BatchNormalization())\n",
    "        full_model.add(Dense(units=output_nueron, activation='sigmoid'))\n",
    "        \n",
    "    \n",
    "        \n",
    "        full_model.compile(optimizer='adam',loss='mse')\n",
    "        full_model.summary()\n",
    "        return full_model\n",
    "    def update_base_model(self):\n",
    "        self.full_model=self._prepare_full_model(\n",
    "            model=self.model,\n",
    "            output_nueron=self.config.params_output_nueron,\n",
    "            freeze_all=True,\n",
    "            freeze_till=None\n",
    "            \n",
    "        )\n",
    "        self.save_model(path=self.config.updated_base_model_path,model=self.full_model)\n",
    "\n"
   ]
  },
  {
   "cell_type": "code",
   "execution_count": 18,
   "metadata": {},
   "outputs": [
    {
     "name": "stdout",
     "output_type": "stream",
     "text": [
      "[2024-08-10 20:21:36,785: INFO: common: yaml file: config\\config.yaml loaded successfully]\n",
      "[2024-08-10 20:21:36,788: INFO: common: yaml file: params.yaml loaded successfully]\n",
      "[2024-08-10 20:21:36,790: INFO: common: created directory at: artifacts]\n",
      "[2024-08-10 20:21:36,791: INFO: common: created directory at: artifacts/prepare_base_model]\n",
      "[2024-08-10 20:21:37,153: WARNING: saving_utils: Compiled the loaded model, but the compiled metrics have yet to be built. `model.compile_metrics` will be empty until you train or evaluate the model.]\n",
      "Model: \"sequential_1\"\n",
      "_________________________________________________________________\n",
      " Layer (type)                Output Shape              Param #   \n",
      "=================================================================\n",
      " vgg16 (Functional)          (None, 3, 3, 512)         14714688  \n",
      "                                                                 \n",
      " flatten_2 (Flatten)         (None, 12800)             0         \n",
      "                                                                 \n",
      " dense_14 (Dense)            (None, 128)               1638528   \n",
      "                                                                 \n",
      " batch_normalization_12 (Bat  (None, 128)              512       \n",
      " chNormalization)                                                \n",
      "                                                                 \n",
      " dropout_12 (Dropout)        (None, 128)               0         \n",
      "                                                                 \n",
      " dense_15 (Dense)            (None, 256)               33024     \n",
      "                                                                 \n",
      " batch_normalization_13 (Bat  (None, 256)              1024      \n",
      " chNormalization)                                                \n",
      "                                                                 \n",
      " dropout_13 (Dropout)        (None, 256)               0         \n",
      "                                                                 \n",
      " dense_16 (Dense)            (None, 128)               32896     \n",
      "                                                                 \n",
      " batch_normalization_14 (Bat  (None, 128)              512       \n",
      " chNormalization)                                                \n",
      "                                                                 \n",
      " dropout_14 (Dropout)        (None, 128)               0         \n",
      "                                                                 \n",
      " dense_17 (Dense)            (None, 64)                8256      \n",
      "                                                                 \n",
      " batch_normalization_15 (Bat  (None, 64)               256       \n",
      " chNormalization)                                                \n",
      "                                                                 \n",
      " dropout_15 (Dropout)        (None, 64)                0         \n",
      "                                                                 \n",
      " dense_18 (Dense)            (None, 32)                2080      \n",
      "                                                                 \n",
      " batch_normalization_16 (Bat  (None, 32)               128       \n",
      " chNormalization)                                                \n",
      "                                                                 \n",
      " dropout_16 (Dropout)        (None, 32)                0         \n",
      "                                                                 \n",
      " dense_19 (Dense)            (None, 16)                528       \n",
      "                                                                 \n",
      " batch_normalization_17 (Bat  (None, 16)               64        \n",
      " chNormalization)                                                \n",
      "                                                                 \n",
      " dense_20 (Dense)            (None, 2)                 34        \n",
      "                                                                 \n",
      "=================================================================\n",
      "Total params: 16,432,530\n",
      "Trainable params: 1,716,594\n",
      "Non-trainable params: 14,715,936\n",
      "_________________________________________________________________\n"
     ]
    }
   ],
   "source": [
    "try:\n",
    "    config=ConfigurationManager()\n",
    "    prepare_base_model_config=config.get_prepare_base_model_config()\n",
    "    prepare_base_model=PrepareBaseModel(config=prepare_base_model_config)\n",
    "    prepare_base_model.get_base_model()\n",
    "    prepare_base_model.update_base_model()\n",
    "except Exception as e:\n",
    "    raise e"
   ]
  },
  {
   "cell_type": "code",
   "execution_count": null,
   "metadata": {},
   "outputs": [],
   "source": []
  },
  {
   "cell_type": "code",
   "execution_count": null,
   "metadata": {},
   "outputs": [],
   "source": []
  }
 ],
 "metadata": {
  "kernelspec": {
   "display_name": "venv",
   "language": "python",
   "name": "python3"
  },
  "language_info": {
   "codemirror_mode": {
    "name": "ipython",
    "version": 3
   },
   "file_extension": ".py",
   "mimetype": "text/x-python",
   "name": "python",
   "nbconvert_exporter": "python",
   "pygments_lexer": "ipython3",
   "version": "3.10.11"
  }
 },
 "nbformat": 4,
 "nbformat_minor": 2
}
