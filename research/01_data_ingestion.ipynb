{
 "cells": [
  {
   "cell_type": "code",
   "execution_count": 1,
   "metadata": {},
   "outputs": [],
   "source": [
    "import os"
   ]
  },
  {
   "cell_type": "code",
   "execution_count": 2,
   "metadata": {},
   "outputs": [
    {
     "data": {
      "text/plain": [
       "'c:\\\\Users\\\\bisht\\\\OneDrive\\\\Desktop\\\\geoguess\\\\research'"
      ]
     },
     "execution_count": 2,
     "metadata": {},
     "output_type": "execute_result"
    }
   ],
   "source": [
    "%pwd"
   ]
  },
  {
   "cell_type": "code",
   "execution_count": 3,
   "metadata": {},
   "outputs": [],
   "source": [
    "os.chdir('../')"
   ]
  },
  {
   "cell_type": "code",
   "execution_count": 4,
   "metadata": {},
   "outputs": [
    {
     "data": {
      "text/plain": [
       "'c:\\\\Users\\\\bisht\\\\OneDrive\\\\Desktop\\\\geoguess'"
      ]
     },
     "execution_count": 4,
     "metadata": {},
     "output_type": "execute_result"
    }
   ],
   "source": [
    "%pwd"
   ]
  },
  {
   "cell_type": "code",
   "execution_count": 17,
   "metadata": {},
   "outputs": [],
   "source": [
    "from dataclasses import dataclass\n",
    "from pathlib import Path\n",
    "@dataclass(frozen=True)\n",
    "class DataIngestionConfig:\n",
    "    root_dir:Path\n",
    "    source_URL:str\n",
    "    local_data_file:Path\n",
    "    unzip_dir:Path\n",
    "    \n"
   ]
  },
  {
   "cell_type": "code",
   "execution_count": 18,
   "metadata": {},
   "outputs": [],
   "source": [
    "from AI_Vs_Human_Geoguess.constants import *\n",
    "from AI_Vs_Human_Geoguess.utils.common import read_yaml,create_directories"
   ]
  },
  {
   "cell_type": "code",
   "execution_count": 23,
   "metadata": {},
   "outputs": [],
   "source": [
    "\n",
    "\n",
    "    \n",
    "class ConfigurationManager:\n",
    "    def __init__(\n",
    "        self,\n",
    "        config_filepath = CONFIG_FILE_PATH,\n",
    "        params_filepath = PARAMS_FILE_PATH):\n",
    "\n",
    "        self.config = read_yaml(config_filepath)\n",
    "        self.params = read_yaml(params_filepath)\n",
    "\n",
    "        create_directories([self.config.artifacts_root])\n",
    "\n",
    "\n",
    "    \n",
    "    def get_data_ingestion_config(self) -> DataIngestionConfig:\n",
    "        config = self.config.data_ingestion\n",
    "\n",
    "        create_directories([config.root_dir])\n",
    "\n",
    "        data_ingestion_config = DataIngestionConfig(\n",
    "            root_dir=config.root_dir,\n",
    "            source_URL=config.source_URL,\n",
    "            local_data_file=config.local_data_file,\n",
    "            unzip_dir=config.unzip_dir \n",
    "        )\n",
    "\n",
    "        return data_ingestion_config"
   ]
  },
  {
   "cell_type": "code",
   "execution_count": 24,
   "metadata": {},
   "outputs": [],
   "source": [
    "import os\n",
    "import zipfile\n",
    "import gdown\n",
    "from AI_Vs_Human_Geoguess import logger\n",
    "from AI_Vs_Human_Geoguess.utils.common import get_size\n",
    "import pandas as pd"
   ]
  },
  {
   "cell_type": "code",
   "execution_count": 25,
   "metadata": {},
   "outputs": [],
   "source": [
    "class DataIngestion:\n",
    "    def __init__(self,config:DataIngestionConfig):\n",
    "        self.config = config\n",
    "    def download_file(self)->str:\n",
    "        try:\n",
    "            dataset_url=self.config.source_URL\n",
    "            zip_download_dir=self.config.local_data_file\n",
    "            os.makedirs('artifacts/data_ingestion',exist_ok=True)\n",
    "            logger.info(f'Downloading data from {dataset_url} into file {zip_download_dir}')\n",
    "            file_id=dataset_url.split('/')[-2]\n",
    "            prefix='http://drive.google.com/uc?/export=download&id='\n",
    "            gdown.download(prefix+file_id,zip_download_dir)\n",
    "            logger.info(f'Download data from {dataset_url} into file {zip_download_dir}')\n",
    "        except Exception as e:\n",
    "            raise e\n",
    "    def extract_zip_file(self):\n",
    "        unzip_path=self.config.unzip_dir\n",
    "        os.makedirs(unzip_path,exist_ok=True)\n",
    "        with zipfile.ZipFile(self.config.local_data_file,'r') as zip_ref:\n",
    "            zip_ref.extractall(unzip_path)\n",
    "   \n"
   ]
  },
  {
   "cell_type": "markdown",
   "metadata": {},
   "source": []
  },
  {
   "cell_type": "code",
   "execution_count": 26,
   "metadata": {},
   "outputs": [
    {
     "name": "stdout",
     "output_type": "stream",
     "text": [
      "[2024-08-04 16:08:11,070: INFO: common: yaml file: config\\config.yaml loaded successfully]\n",
      "[2024-08-04 16:08:11,073: INFO: common: yaml file: params.yaml loaded successfully]\n",
      "[2024-08-04 16:08:11,074: INFO: common: created directory at: artifacts]\n",
      "hello\n",
      "[2024-08-04 16:08:11,076: INFO: common: created directory at: artifacts/data_ingestion]\n",
      "[2024-08-04 16:08:11,077: INFO: 1362542733: Downloading data from https://drive.google.com/file/d/1qJ71_GnVawOP7JthzCuXBZdLOwKbQsg-/view?usp=sharing into file artifacts/data_ingestion/data.zip]\n"
     ]
    },
    {
     "name": "stderr",
     "output_type": "stream",
     "text": [
      "Downloading...\n",
      "From (original): http://drive.google.com/uc?/export=download&id=1qJ71_GnVawOP7JthzCuXBZdLOwKbQsg-\n",
      "From (redirected): https://drive.google.com/uc?%2Fexport=download&id=1qJ71_GnVawOP7JthzCuXBZdLOwKbQsg-&confirm=t&uuid=65d12c19-163f-430f-9557-5b92b1b6a00e\n",
      "To: c:\\Users\\bisht\\OneDrive\\Desktop\\geoguess\\artifacts\\data_ingestion\\data.zip\n",
      "100%|██████████| 629M/629M [04:48<00:00, 2.18MB/s] "
     ]
    },
    {
     "name": "stdout",
     "output_type": "stream",
     "text": [
      "[2024-08-04 16:13:04,943: INFO: 1362542733: Download data from https://drive.google.com/file/d/1qJ71_GnVawOP7JthzCuXBZdLOwKbQsg-/view?usp=sharing into file artifacts/data_ingestion/data.zip]\n"
     ]
    },
    {
     "name": "stderr",
     "output_type": "stream",
     "text": [
      "\n"
     ]
    }
   ],
   "source": [
    "try:\n",
    "    config=ConfigurationManager()\n",
    "    print('hello')\n",
    "    data_ingestion_config=config.get_data_ingestion_config()\n",
    "    dataingestion=DataIngestion(config=data_ingestion_config)\n",
    "    dataingestion.download_file()\n",
    "    dataingestion.extract_zip_file()\n",
    "except Exception as e:\n",
    "    raise e"
   ]
  },
  {
   "cell_type": "code",
   "execution_count": null,
   "metadata": {},
   "outputs": [],
   "source": []
  }
 ],
 "metadata": {
  "kernelspec": {
   "display_name": "venv",
   "language": "python",
   "name": "python3"
  },
  "language_info": {
   "codemirror_mode": {
    "name": "ipython",
    "version": 3
   },
   "file_extension": ".py",
   "mimetype": "text/x-python",
   "name": "python",
   "nbconvert_exporter": "python",
   "pygments_lexer": "ipython3",
   "version": "3.10.11"
  }
 },
 "nbformat": 4,
 "nbformat_minor": 2
}
